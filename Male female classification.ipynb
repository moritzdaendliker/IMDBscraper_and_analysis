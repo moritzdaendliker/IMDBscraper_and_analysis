{
 "cells": [
  {
   "cell_type": "code",
   "execution_count": 32,
   "metadata": {},
   "outputs": [
    {
     "name": "stdout",
     "output_type": "stream",
     "text": [
      "0        ['Tim Robbins', 'Morgan Freeman', 'Bob Gunton']\n",
      "1           ['Marlon Brando', 'Al Pacino', 'James Caan']\n",
      "2       ['Al Pacino', 'Robert De Niro', 'Robert Duvall']\n",
      "3      ['Christian Bale', 'Heath Ledger', 'Aaron Eckh...\n",
      "4        ['Henry Fonda', 'Lee J. Cobb', 'Martin Balsam']\n",
      "                             ...                        \n",
      "245    ['Megumi Ogata', 'Megumi Hayashibara', 'Yûko M...\n",
      "246    ['Rajesh Khanna', 'Amitabh Bachchan', 'Sumita ...\n",
      "247        ['James Stewart', 'John Wayne', 'Vera Miles']\n",
      "248    ['Harry Dean Stanton', 'Nastassja Kinski', 'De...\n",
      "249    ['Toshirô Mifune', 'Minoru Chiaki', 'Isuzu Yam...\n",
      "Name: starring, Length: 250, dtype: object\n"
     ]
    },
    {
     "data": {
      "text/plain": [
       "0        ['Tim Robbins', 'Morgan Freeman', 'Bob Gunton']\n",
       "1           ['Marlon Brando', 'Al Pacino', 'James Caan']\n",
       "2       ['Al Pacino', 'Robert De Niro', 'Robert Duvall']\n",
       "3      ['Christian Bale', 'Heath Ledger', 'Aaron Eckh...\n",
       "4        ['Henry Fonda', 'Lee J. Cobb', 'Martin Balsam']\n",
       "                             ...                        \n",
       "245    ['Megumi Ogata', 'Megumi Hayashibara', 'Yûko M...\n",
       "246    ['Rajesh Khanna', 'Amitabh Bachchan', 'Sumita ...\n",
       "247        ['James Stewart', 'John Wayne', 'Vera Miles']\n",
       "248    ['Harry Dean Stanton', 'Nastassja Kinski', 'De...\n",
       "249    ['Toshirô Mifune', 'Minoru Chiaki', 'Isuzu Yam...\n",
       "Name: starring, Length: 250, dtype: object"
      ]
     },
     "execution_count": 32,
     "metadata": {},
     "output_type": "execute_result"
    }
   ],
   "source": [
    "#Analysis of gender diversity in the scraped movies\n",
    "\n",
    "import pandas as pd\n",
    "\n",
    "## Importing all the necessary libraries\n",
    "import pandas as pd\n",
    "import numpy as np\n",
    "import requests\n",
    "from bs4 import BeautifulSoup\n",
    "import urllib3\n",
    "import re\n",
    "import seaborn as sns\n",
    "import matplotlib.pyplot as plt\n",
    "import math\n",
    "\n",
    "\n",
    "#Loading CSV file with names\n",
    "names = pd.read_csv(\"baby-names.csv\")\n",
    "len(names) #258 000 names\n",
    "names.head()\n",
    "\n",
    "#Setting up dictionary match female names with female and male names with male\n",
    "dictionary = names.set_index('name').to_dict()['sex']\n",
    "\n",
    "#We now have a dictionary assigning all the names in our database to either boy or girl\n",
    "\n",
    "#Getting scraped names\n",
    "imdb_top_movies = pd.read_csv(\"imdb_top_movies.csv\")\n",
    "scraped_names= imdb_top_movies.starring\n",
    "\n",
    "    \n",
    "#We fill up to empty list using a for and if loop that checks wether element is in the dictionary\n",
    "for element in scraped_names:\n",
    "        if element in dictionary:\n",
    "            scraped_names.append(dictionary[element])\n",
    "print(scraped_names)\n",
    "#I return the words as a string, instead of a list, by appending the elements in the list\n",
    "\n",
    "\n",
    "scraped_names"
   ]
  }
 ],
 "metadata": {
  "kernelspec": {
   "display_name": "Python 3",
   "language": "python",
   "name": "python3"
  },
  "language_info": {
   "codemirror_mode": {
    "name": "ipython",
    "version": 3
   },
   "file_extension": ".py",
   "mimetype": "text/x-python",
   "name": "python",
   "nbconvert_exporter": "python",
   "pygments_lexer": "ipython3",
   "version": "3.8.5"
  }
 },
 "nbformat": 4,
 "nbformat_minor": 4
}
