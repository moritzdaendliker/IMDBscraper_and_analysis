{
 "cells": [
  {
   "cell_type": "code",
   "execution_count": 2,
   "metadata": {},
   "outputs": [],
   "source": [
    "## Importing all the necessary libraries\n",
    "import pandas as pd\n",
    "import numpy as np\n",
    "import requests\n",
    "from bs4 import BeautifulSoup\n",
    "import urllib3\n",
    "import re\n",
    "import seaborn as sns\n",
    "import matplotlib.pyplot as plt"
   ]
  },
  {
   "cell_type": "code",
   "execution_count": 4,
   "metadata": {},
   "outputs": [],
   "source": []
  },
  {
   "cell_type": "code",
   "execution_count": 21,
   "metadata": {},
   "outputs": [],
   "source": [
    "## using the pd.explode to create a new row for each actor\n",
    "imdb_temp = imdb_top_movies[[\"starring\", \"movie_name\"]].assign( starring = imdb_top_movies[\"starring\"].str.split(\", \")).explode(\"starring\")\n",
    "\n",
    "## cleaning up the actor column from all unnecessary \n",
    "imdb_temp[\"starring\"] = imdb_temp[\"starring\"].str.replace(\"[\", \"\").str.replace(\"'\",\"\").str.replace(\"]\", \"\").str.replace('\"', \"\")\n",
    "\n",
    "## grouping by starring and counting the movies they appeared \n",
    "result = pd.DataFrame(imdb_temp.groupby([\"starring\"])[\"movie_name\"].count())\n",
    "result = result.rename(columns = {\"movie_name\": \"count\"})\n",
    "\n"
   ]
  },
  {
   "cell_type": "code",
   "execution_count": 22,
   "metadata": {},
   "outputs": [
    {
     "name": "stdout",
     "output_type": "stream",
     "text": [
      "Please enter how many top actors (measured in #of movies you would liek todisplay):5\n"
     ]
    },
    {
     "data": {
      "text/html": [
       "<div>\n",
       "<style scoped>\n",
       "    .dataframe tbody tr th:only-of-type {\n",
       "        vertical-align: middle;\n",
       "    }\n",
       "\n",
       "    .dataframe tbody tr th {\n",
       "        vertical-align: top;\n",
       "    }\n",
       "\n",
       "    .dataframe thead th {\n",
       "        text-align: right;\n",
       "    }\n",
       "</style>\n",
       "<table border=\"1\" class=\"dataframe\">\n",
       "  <thead>\n",
       "    <tr style=\"text-align: right;\">\n",
       "      <th></th>\n",
       "      <th>count</th>\n",
       "    </tr>\n",
       "    <tr>\n",
       "      <th>starring</th>\n",
       "      <th></th>\n",
       "    </tr>\n",
       "  </thead>\n",
       "  <tbody>\n",
       "    <tr>\n",
       "      <th>Robert De Niro</th>\n",
       "      <td>9</td>\n",
       "    </tr>\n",
       "    <tr>\n",
       "      <th>Harrison Ford</th>\n",
       "      <td>6</td>\n",
       "    </tr>\n",
       "    <tr>\n",
       "      <th>Leonardo DiCaprio</th>\n",
       "      <td>6</td>\n",
       "    </tr>\n",
       "    <tr>\n",
       "      <th>Tom Hanks</th>\n",
       "      <td>6</td>\n",
       "    </tr>\n",
       "    <tr>\n",
       "      <th>Charles Chaplin</th>\n",
       "      <td>5</td>\n",
       "    </tr>\n",
       "  </tbody>\n",
       "</table>\n",
       "</div>"
      ],
      "text/plain": [
       "                   count\n",
       "starring                \n",
       "Robert De Niro         9\n",
       "Harrison Ford          6\n",
       "Leonardo DiCaprio      6\n",
       "Tom Hanks              6\n",
       "Charles Chaplin        5"
      ]
     },
     "execution_count": 22,
     "metadata": {},
     "output_type": "execute_result"
    }
   ],
   "source": [
    "## create a while function that will ask how many artists with the most movie starring should be displayed\n",
    "numbersEntered = []  # List that stores all entered numbers\n",
    "numberList = []  # List when several numbers are entered at once\n",
    "\n",
    "while len(numbersEntered) <= 0:\n",
    "\n",
    "    # Input, programme description\n",
    "    numberInput = str(input('Please enter how many top actors (measured in #of movies you would liek todisplay):'))\n",
    "\n",
    "    # Find all positive and negative float or int numbers in the input\n",
    "    numberList = re.findall(r'[-]?\\d*\\.\\d+|[-]?\\d+', numberInput)\n",
    "\n",
    "    # Add the numbers entered now to the list of all entered numbers\n",
    "    for i in range(len(numberList)):\n",
    "        numbersEntered.append(float(numberList[i]))\n",
    "        i += 1\n",
    "       \n",
    "        \n",
    "# Using nlargerst function to show the top 10 actors. Please keep in mind, that there are more actors who also had 4 apprences in the movies\n",
    "result.nlargest(int(numbersEntered[0]), \"count\")\n"
   ]
  },
  {
   "cell_type": "code",
   "execution_count": 26,
   "metadata": {},
   "outputs": [
    {
     "name": "stdout",
     "output_type": "stream",
     "text": [
      "What is your favorite movie star? please write it in the following format: first name last name (e.g. Brad Pitt): Brad Pitt\n"
     ]
    },
    {
     "data": {
      "text/plain": [
       "0      False\n",
       "0      False\n",
       "0      False\n",
       "1      False\n",
       "1      False\n",
       "       ...  \n",
       "248    False\n",
       "248    False\n",
       "249    False\n",
       "249    False\n",
       "249    False\n",
       "Name: starring, Length: 750, dtype: bool"
      ]
     },
     "execution_count": 26,
     "metadata": {},
     "output_type": "execute_result"
    }
   ],
   "source": [
    "# write a function to check how many types your favorite movie star is present in the list\n",
    "idol = input(\"What is your favorite movie star? please write it in the following format: first name last name (e.g. Brad Pitt): \")\n",
    "imdb_temp[\"starring\"]==idol.count\n"
   ]
  },
  {
   "cell_type": "code",
   "execution_count": null,
   "metadata": {},
   "outputs": [],
   "source": []
  }
 ],
 "metadata": {
  "kernelspec": {
   "display_name": "Python 3",
   "language": "python",
   "name": "python3"
  },
  "language_info": {
   "codemirror_mode": {
    "name": "ipython",
    "version": 3
   },
   "file_extension": ".py",
   "mimetype": "text/x-python",
   "name": "python",
   "nbconvert_exporter": "python",
   "pygments_lexer": "ipython3",
   "version": "3.8.5"
  }
 },
 "nbformat": 4,
 "nbformat_minor": 4
}
