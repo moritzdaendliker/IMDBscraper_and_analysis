{
 "cells": [
  {
   "cell_type": "code",
   "execution_count": 3,
   "metadata": {},
   "outputs": [],
   "source": [
    "## Importing all the necessary libraries\n",
    "import pandas as pd\n",
    "import numpy as np\n",
    "import requests\n",
    "from bs4 import BeautifulSoup\n",
    "import urllib3\n",
    "import re\n",
    "import seaborn as sns\n",
    "import matplotlib.pyplot as plt"
   ]
  },
  {
   "cell_type": "code",
   "execution_count": 4,
   "metadata": {},
   "outputs": [
    {
     "data": {
      "text/plain": [
       "2010    46\n",
       "2000    46\n",
       "1990    41\n",
       "1980    29\n",
       "1950    24\n",
       "1970    19\n",
       "1960    19\n",
       "1940    10\n",
       "1920     7\n",
       "1930     6\n",
       "2020     3\n",
       "Name: decades, dtype: int64"
      ]
     },
     "execution_count": 4,
     "metadata": {},
     "output_type": "execute_result"
    }
   ],
   "source": [
    "## loading the csv file which was created after scraping the IMDb website\n",
    "imdb_top_movies = pd.read_csv(\"imdb_top_movies.csv\")\n",
    "imdb_top_movies = imdb_top_movies.astype({\"year\": int})"
   ]
  },
  {
   "cell_type": "code",
   "execution_count": null,
   "metadata": {},
   "outputs": [],
   "source": [
    "## transforming the year into decades\n",
    "imdb_top_movies[\"decades\"] = (imdb_top_movies[\"year\"]//10)*10\n",
    "imdb_top_movies[\"decades\"].sort_values().value_counts()"
   ]
  },
  {
   "cell_type": "code",
   "execution_count": 5,
   "metadata": {},
   "outputs": [
    {
     "ename": "NameError",
     "evalue": "name 'flights' is not defined",
     "output_type": "error",
     "traceback": [
      "\u001b[1;31m---------------------------------------------------------------------------\u001b[0m",
      "\u001b[1;31mNameError\u001b[0m                                 Traceback (most recent call last)",
      "\u001b[1;32m<ipython-input-5-46407ec43b26>\u001b[0m in \u001b[0;36m<module>\u001b[1;34m\u001b[0m\n\u001b[0;32m      2\u001b[0m \u001b[1;33m\u001b[0m\u001b[0m\n\u001b[0;32m      3\u001b[0m \u001b[1;31m## make a histogram of the running time using matplot\u001b[0m\u001b[1;33m\u001b[0m\u001b[1;33m\u001b[0m\u001b[1;33m\u001b[0m\u001b[0m\n\u001b[1;32m----> 4\u001b[1;33m plt.hist(flights['arr_delay'], color = 'blue', edgecolor = 'black',\n\u001b[0m\u001b[0;32m      5\u001b[0m          bins = int(180/5))\n\u001b[0;32m      6\u001b[0m \u001b[1;33m\u001b[0m\u001b[0m\n",
      "\u001b[1;31mNameError\u001b[0m: name 'flights' is not defined"
     ]
    }
   ],
   "source": [
    "## have a look at different running times numerically but also visually\n",
    "\n",
    "## make a histogram of the running time using matplot\n",
    "plt.hist(flights['arr_delay'], color = 'blue', edgecolor = 'black',\n",
    "         bins = int(180/5))\n",
    "\n",
    "## define different quantilies \n",
    "q0 = imdb_top_movies[\"runtime\"].quantile(0)\n",
    "q25=imdb_top_movies[\"runtime\"].quantile(0.25)\n",
    "q50=imdb_top_movies[\"runtime\"].quantile(0.5)\n",
    "q75=imdb_top_movies[\"runtime\"].quantile(0.75)\n",
    "q100=imdb_top_movies[\"runtime\"].quantile(1)\n",
    "\n",
    "## filter each film based on its runtime and store it in a new value\n",
    "first_quantile = imdb_top_movies[imdb_top_movies[\"runtime\"] <= q25]\n",
    "first_quantile_count = first_quantile[\"runtime\"].count()\n",
    "\n",
    "second_quantile = imdb_top_movies[(imdb_top_movies[\"runtime\"] > q25) & (imdb_top_movies[\"runtime\"] <= q50)]\n",
    "second_quantile_count = second_quantile[\"runtime\"].count()\n",
    "\n",
    "third_quantile = imdb_top_movies[(imdb_top_movies[\"runtime\"] > q50) & (imdb_top_movies[\"runtime\"] <= q75)]\n",
    "third_quantile_count = third_quantile[\"runtime\"].count()\n",
    "\n",
    "fourth_quantile = imdb_top_movies[imdb_top_movies[\"runtime\"] > q75]\n",
    "fourth_quantile_count = fourth_quantile[\"runtime\"].count()\n",
    "\n",
    "## printing the quantiles ---> idea: add average runtime of each quantile below\n",
    "print(\"There are\",first_quantile_count, \"in the first quantile (0-25%)\")\n",
    "print(\"There are\",second_quantile_count, \"in the second quantile (25-50%)\")\n",
    "print(\"There are\",third_quantile_count, \"in the third quantile (50-75%)\")\n",
    "print(\"There are\",fourth_quantile_count, \"in the fourth quantile (75-100%)\")"
   ]
  },
  {
   "cell_type": "code",
   "execution_count": null,
   "metadata": {},
   "outputs": [],
   "source": []
  }
 ],
 "metadata": {
  "kernelspec": {
   "display_name": "Python 3",
   "language": "python",
   "name": "python3"
  },
  "language_info": {
   "codemirror_mode": {
    "name": "ipython",
    "version": 3
   },
   "file_extension": ".py",
   "mimetype": "text/x-python",
   "name": "python",
   "nbconvert_exporter": "python",
   "pygments_lexer": "ipython3",
   "version": "3.8.5"
  }
 },
 "nbformat": 4,
 "nbformat_minor": 4
}
