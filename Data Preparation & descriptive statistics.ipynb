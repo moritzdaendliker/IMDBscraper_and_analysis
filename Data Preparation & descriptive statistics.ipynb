{
 "cells": [
  {
   "cell_type": "code",
   "execution_count": 33,
   "metadata": {},
   "outputs": [],
   "source": [
    "## In this section we will do some preparation for later analysis and will show and visualize some descriptive statistics of the data"
   ]
  },
  {
   "cell_type": "code",
   "execution_count": 75,
   "metadata": {},
   "outputs": [],
   "source": [
    "## Importing all the necessary libraries\n",
    "import pandas as pd\n",
    "import numpy as np\n",
    "import requests\n",
    "from bs4 import BeautifulSoup\n",
    "import urllib3\n",
    "import re\n",
    "import seaborn as sns\n",
    "import matplotlib.pyplot as plt\n",
    "import math"
   ]
  },
  {
   "cell_type": "code",
   "execution_count": 117,
   "metadata": {},
   "outputs": [],
   "source": [
    "## loading the csv file which was created after scraping the IMDb website\n",
    "imdb_top_movies = pd.read_csv(\"imdb_top_movies.csv\")\n",
    "imdb_top_movies = imdb_top_movies.astype({\"year\": int})\n",
    "\n",
    "# quick clean\n",
    "imdb_top_movies = imdb_top_movies.dropna( axis=0, how='all')"
   ]
  },
  {
   "cell_type": "code",
   "execution_count": 118,
   "metadata": {},
   "outputs": [
    {
     "data": {
      "text/plain": [
       "250"
      ]
     },
     "execution_count": 118,
     "metadata": {},
     "output_type": "execute_result"
    }
   ],
   "source": [
    "len(imdb_top_movies)"
   ]
  },
  {
   "cell_type": "code",
   "execution_count": 119,
   "metadata": {},
   "outputs": [
    {
     "data": {
      "text/html": [
       "<div>\n",
       "<style scoped>\n",
       "    .dataframe tbody tr th:only-of-type {\n",
       "        vertical-align: middle;\n",
       "    }\n",
       "\n",
       "    .dataframe tbody tr th {\n",
       "        vertical-align: top;\n",
       "    }\n",
       "\n",
       "    .dataframe thead th {\n",
       "        text-align: right;\n",
       "    }\n",
       "</style>\n",
       "<table border=\"1\" class=\"dataframe\">\n",
       "  <thead>\n",
       "    <tr style=\"text-align: right;\">\n",
       "      <th></th>\n",
       "      <th>Unnamed: 0</th>\n",
       "      <th>rank</th>\n",
       "      <th>IMDB_id</th>\n",
       "      <th>movie_name</th>\n",
       "      <th>year</th>\n",
       "      <th>director</th>\n",
       "      <th>starring</th>\n",
       "      <th>rating</th>\n",
       "      <th>number_of_reviews</th>\n",
       "      <th>genres</th>\n",
       "      <th>country</th>\n",
       "      <th>language</th>\n",
       "      <th>budget</th>\n",
       "      <th>box_office_revenue</th>\n",
       "      <th>runtime</th>\n",
       "    </tr>\n",
       "  </thead>\n",
       "  <tbody>\n",
       "    <tr>\n",
       "      <th>0</th>\n",
       "      <td>0</td>\n",
       "      <td>1</td>\n",
       "      <td>111161</td>\n",
       "      <td>The Shawshank Redemption</td>\n",
       "      <td>1994</td>\n",
       "      <td>Frank Darabont</td>\n",
       "      <td>['Tim Robbins', 'Morgan Freeman', 'Bob Gunton']</td>\n",
       "      <td>9.3</td>\n",
       "      <td>2395380</td>\n",
       "      <td>['Drama']</td>\n",
       "      <td>['USA']</td>\n",
       "      <td>['English']</td>\n",
       "      <td>$25,000,000</td>\n",
       "      <td>$28,817,291</td>\n",
       "      <td>142</td>\n",
       "    </tr>\n",
       "    <tr>\n",
       "      <th>1</th>\n",
       "      <td>0</td>\n",
       "      <td>2</td>\n",
       "      <td>68646</td>\n",
       "      <td>The Godfather</td>\n",
       "      <td>1972</td>\n",
       "      <td>Francis Ford Coppola</td>\n",
       "      <td>['Marlon Brando', 'Al Pacino', 'James Caan']</td>\n",
       "      <td>9.2</td>\n",
       "      <td>1659275</td>\n",
       "      <td>['Crime', 'Drama']</td>\n",
       "      <td>['USA']</td>\n",
       "      <td>['English', 'Italian', 'Latin']</td>\n",
       "      <td>$6,000,000</td>\n",
       "      <td>$246,120,986</td>\n",
       "      <td>175</td>\n",
       "    </tr>\n",
       "    <tr>\n",
       "      <th>2</th>\n",
       "      <td>0</td>\n",
       "      <td>3</td>\n",
       "      <td>71562</td>\n",
       "      <td>The Godfather: Part II</td>\n",
       "      <td>1974</td>\n",
       "      <td>Francis Ford Coppola</td>\n",
       "      <td>['Al Pacino', 'Robert De Niro', 'Robert Duvall']</td>\n",
       "      <td>9.0</td>\n",
       "      <td>1153451</td>\n",
       "      <td>['Crime', 'Drama']</td>\n",
       "      <td>['USA']</td>\n",
       "      <td>['English', 'Italian', 'Spanish', 'Latin', 'Si...</td>\n",
       "      <td>$13,000,000</td>\n",
       "      <td>$48,035,783</td>\n",
       "      <td>202</td>\n",
       "    </tr>\n",
       "    <tr>\n",
       "      <th>3</th>\n",
       "      <td>0</td>\n",
       "      <td>4</td>\n",
       "      <td>468569</td>\n",
       "      <td>The Dark Knight</td>\n",
       "      <td>2008</td>\n",
       "      <td>Christopher Nolan</td>\n",
       "      <td>['Christian Bale', 'Heath Ledger', 'Aaron Eckh...</td>\n",
       "      <td>9.0</td>\n",
       "      <td>2357059</td>\n",
       "      <td>['Action', 'Crime', 'Drama', 'Thriller']</td>\n",
       "      <td>['USA', 'UK']</td>\n",
       "      <td>['English', 'Mandarin']</td>\n",
       "      <td>$185,000,000</td>\n",
       "      <td>$1,005,973,645</td>\n",
       "      <td>152</td>\n",
       "    </tr>\n",
       "    <tr>\n",
       "      <th>4</th>\n",
       "      <td>0</td>\n",
       "      <td>5</td>\n",
       "      <td>50083</td>\n",
       "      <td>12 Angry Men</td>\n",
       "      <td>1957</td>\n",
       "      <td>Sidney Lumet</td>\n",
       "      <td>['Henry Fonda', 'Lee J. Cobb', 'Martin Balsam']</td>\n",
       "      <td>9.0</td>\n",
       "      <td>706423</td>\n",
       "      <td>['Crime', 'Drama']</td>\n",
       "      <td>['USA']</td>\n",
       "      <td>['English']</td>\n",
       "      <td>$350,000</td>\n",
       "      <td>$955</td>\n",
       "      <td>96</td>\n",
       "    </tr>\n",
       "    <tr>\n",
       "      <th>...</th>\n",
       "      <td>...</td>\n",
       "      <td>...</td>\n",
       "      <td>...</td>\n",
       "      <td>...</td>\n",
       "      <td>...</td>\n",
       "      <td>...</td>\n",
       "      <td>...</td>\n",
       "      <td>...</td>\n",
       "      <td>...</td>\n",
       "      <td>...</td>\n",
       "      <td>...</td>\n",
       "      <td>...</td>\n",
       "      <td>...</td>\n",
       "      <td>...</td>\n",
       "      <td>...</td>\n",
       "    </tr>\n",
       "    <tr>\n",
       "      <th>245</th>\n",
       "      <td>0</td>\n",
       "      <td>246</td>\n",
       "      <td>169858</td>\n",
       "      <td>Neon Genesis Evangelion: The End of Evangelion</td>\n",
       "      <td>1997</td>\n",
       "      <td>Hideaki Anno</td>\n",
       "      <td>['Megumi Ogata', 'Megumi Hayashibara', 'Yûko M...</td>\n",
       "      <td>8.1</td>\n",
       "      <td>41717</td>\n",
       "      <td>['Animation', 'Action', 'Drama', 'Fantasy', 'S...</td>\n",
       "      <td>['Japan']</td>\n",
       "      <td>['Japanese']</td>\n",
       "      <td>NaN</td>\n",
       "      <td>NaN</td>\n",
       "      <td>87</td>\n",
       "    </tr>\n",
       "    <tr>\n",
       "      <th>246</th>\n",
       "      <td>0</td>\n",
       "      <td>247</td>\n",
       "      <td>66763</td>\n",
       "      <td>Anand</td>\n",
       "      <td>1971</td>\n",
       "      <td>Hrishikesh Mukherjee</td>\n",
       "      <td>['Rajesh Khanna', 'Amitabh Bachchan', 'Sumita ...</td>\n",
       "      <td>8.3</td>\n",
       "      <td>31743</td>\n",
       "      <td>['Drama', 'Musical']</td>\n",
       "      <td>['India']</td>\n",
       "      <td>['Hindi']</td>\n",
       "      <td>INR3,000,000</td>\n",
       "      <td>NaN</td>\n",
       "      <td>122</td>\n",
       "    </tr>\n",
       "    <tr>\n",
       "      <th>247</th>\n",
       "      <td>0</td>\n",
       "      <td>248</td>\n",
       "      <td>56217</td>\n",
       "      <td>The Man Who Shot Liberty Valance</td>\n",
       "      <td>1962</td>\n",
       "      <td>John Ford</td>\n",
       "      <td>['James Stewart', 'John Wayne', 'Vera Miles']</td>\n",
       "      <td>8.1</td>\n",
       "      <td>70294</td>\n",
       "      <td>['Drama', 'Western']</td>\n",
       "      <td>['USA']</td>\n",
       "      <td>['English']</td>\n",
       "      <td>$3,200,000</td>\n",
       "      <td>NaN</td>\n",
       "      <td>123</td>\n",
       "    </tr>\n",
       "    <tr>\n",
       "      <th>248</th>\n",
       "      <td>0</td>\n",
       "      <td>249</td>\n",
       "      <td>87884</td>\n",
       "      <td>Paris, Texas</td>\n",
       "      <td>1984</td>\n",
       "      <td>Wim Wenders</td>\n",
       "      <td>['Harry Dean Stanton', 'Nastassja Kinski', 'De...</td>\n",
       "      <td>8.1</td>\n",
       "      <td>94983</td>\n",
       "      <td>['Drama']</td>\n",
       "      <td>['West Germany', 'France', 'UK', 'USA']</td>\n",
       "      <td>['English', 'Spanish']</td>\n",
       "      <td>GBP1,162,000</td>\n",
       "      <td>$2,206,121</td>\n",
       "      <td>145</td>\n",
       "    </tr>\n",
       "    <tr>\n",
       "      <th>249</th>\n",
       "      <td>0</td>\n",
       "      <td>250</td>\n",
       "      <td>50613</td>\n",
       "      <td>Throne of Blood</td>\n",
       "      <td>1957</td>\n",
       "      <td>Akira Kurosawa</td>\n",
       "      <td>['Toshirô Mifune', 'Minoru Chiaki', 'Isuzu Yam...</td>\n",
       "      <td>8.1</td>\n",
       "      <td>47807</td>\n",
       "      <td>['Drama', 'History']</td>\n",
       "      <td>['Japan']</td>\n",
       "      <td>['Japanese']</td>\n",
       "      <td>NaN</td>\n",
       "      <td>$46,808</td>\n",
       "      <td>110</td>\n",
       "    </tr>\n",
       "  </tbody>\n",
       "</table>\n",
       "<p>250 rows × 15 columns</p>\n",
       "</div>"
      ],
      "text/plain": [
       "     Unnamed: 0  rank  IMDB_id  \\\n",
       "0             0     1   111161   \n",
       "1             0     2    68646   \n",
       "2             0     3    71562   \n",
       "3             0     4   468569   \n",
       "4             0     5    50083   \n",
       "..          ...   ...      ...   \n",
       "245           0   246   169858   \n",
       "246           0   247    66763   \n",
       "247           0   248    56217   \n",
       "248           0   249    87884   \n",
       "249           0   250    50613   \n",
       "\n",
       "                                         movie_name  year  \\\n",
       "0                          The Shawshank Redemption  1994   \n",
       "1                                     The Godfather  1972   \n",
       "2                            The Godfather: Part II  1974   \n",
       "3                                   The Dark Knight  2008   \n",
       "4                                      12 Angry Men  1957   \n",
       "..                                              ...   ...   \n",
       "245  Neon Genesis Evangelion: The End of Evangelion  1997   \n",
       "246                                           Anand  1971   \n",
       "247                The Man Who Shot Liberty Valance  1962   \n",
       "248                                    Paris, Texas  1984   \n",
       "249                                 Throne of Blood  1957   \n",
       "\n",
       "                 director                                           starring  \\\n",
       "0          Frank Darabont    ['Tim Robbins', 'Morgan Freeman', 'Bob Gunton']   \n",
       "1    Francis Ford Coppola       ['Marlon Brando', 'Al Pacino', 'James Caan']   \n",
       "2    Francis Ford Coppola   ['Al Pacino', 'Robert De Niro', 'Robert Duvall']   \n",
       "3       Christopher Nolan  ['Christian Bale', 'Heath Ledger', 'Aaron Eckh...   \n",
       "4            Sidney Lumet    ['Henry Fonda', 'Lee J. Cobb', 'Martin Balsam']   \n",
       "..                    ...                                                ...   \n",
       "245          Hideaki Anno  ['Megumi Ogata', 'Megumi Hayashibara', 'Yûko M...   \n",
       "246  Hrishikesh Mukherjee  ['Rajesh Khanna', 'Amitabh Bachchan', 'Sumita ...   \n",
       "247             John Ford      ['James Stewart', 'John Wayne', 'Vera Miles']   \n",
       "248           Wim Wenders  ['Harry Dean Stanton', 'Nastassja Kinski', 'De...   \n",
       "249        Akira Kurosawa  ['Toshirô Mifune', 'Minoru Chiaki', 'Isuzu Yam...   \n",
       "\n",
       "     rating  number_of_reviews  \\\n",
       "0       9.3            2395380   \n",
       "1       9.2            1659275   \n",
       "2       9.0            1153451   \n",
       "3       9.0            2357059   \n",
       "4       9.0             706423   \n",
       "..      ...                ...   \n",
       "245     8.1              41717   \n",
       "246     8.3              31743   \n",
       "247     8.1              70294   \n",
       "248     8.1              94983   \n",
       "249     8.1              47807   \n",
       "\n",
       "                                                genres  \\\n",
       "0                                            ['Drama']   \n",
       "1                                   ['Crime', 'Drama']   \n",
       "2                                   ['Crime', 'Drama']   \n",
       "3             ['Action', 'Crime', 'Drama', 'Thriller']   \n",
       "4                                   ['Crime', 'Drama']   \n",
       "..                                                 ...   \n",
       "245  ['Animation', 'Action', 'Drama', 'Fantasy', 'S...   \n",
       "246                               ['Drama', 'Musical']   \n",
       "247                               ['Drama', 'Western']   \n",
       "248                                          ['Drama']   \n",
       "249                               ['Drama', 'History']   \n",
       "\n",
       "                                     country  \\\n",
       "0                                    ['USA']   \n",
       "1                                    ['USA']   \n",
       "2                                    ['USA']   \n",
       "3                              ['USA', 'UK']   \n",
       "4                                    ['USA']   \n",
       "..                                       ...   \n",
       "245                                ['Japan']   \n",
       "246                                ['India']   \n",
       "247                                  ['USA']   \n",
       "248  ['West Germany', 'France', 'UK', 'USA']   \n",
       "249                                ['Japan']   \n",
       "\n",
       "                                              language        budget  \\\n",
       "0                                          ['English']   $25,000,000   \n",
       "1                      ['English', 'Italian', 'Latin']    $6,000,000   \n",
       "2    ['English', 'Italian', 'Spanish', 'Latin', 'Si...   $13,000,000   \n",
       "3                              ['English', 'Mandarin']  $185,000,000   \n",
       "4                                          ['English']      $350,000   \n",
       "..                                                 ...           ...   \n",
       "245                                       ['Japanese']           NaN   \n",
       "246                                          ['Hindi']  INR3,000,000   \n",
       "247                                        ['English']    $3,200,000   \n",
       "248                             ['English', 'Spanish']  GBP1,162,000   \n",
       "249                                       ['Japanese']           NaN   \n",
       "\n",
       "    box_office_revenue  runtime  \n",
       "0          $28,817,291      142  \n",
       "1         $246,120,986      175  \n",
       "2          $48,035,783      202  \n",
       "3       $1,005,973,645      152  \n",
       "4                 $955       96  \n",
       "..                 ...      ...  \n",
       "245                NaN       87  \n",
       "246                NaN      122  \n",
       "247                NaN      123  \n",
       "248         $2,206,121      145  \n",
       "249            $46,808      110  \n",
       "\n",
       "[250 rows x 15 columns]"
      ]
     },
     "execution_count": 119,
     "metadata": {},
     "output_type": "execute_result"
    }
   ],
   "source": [
    "imdb_top_movies"
   ]
  },
  {
   "cell_type": "code",
   "execution_count": null,
   "metadata": {},
   "outputs": [],
   "source": []
  },
  {
   "cell_type": "code",
   "execution_count": null,
   "metadata": {},
   "outputs": [],
   "source": []
  },
  {
   "cell_type": "code",
   "execution_count": 104,
   "metadata": {},
   "outputs": [],
   "source": [
    "imdb_top_movies[['currency', 'nominal']] = imdb_top_movies['budget'].str.split(r'\\D+', 1, expand=True)"
   ]
  },
  {
   "cell_type": "code",
   "execution_count": 105,
   "metadata": {},
   "outputs": [
    {
     "data": {
      "text/html": [
       "<div>\n",
       "<style scoped>\n",
       "    .dataframe tbody tr th:only-of-type {\n",
       "        vertical-align: middle;\n",
       "    }\n",
       "\n",
       "    .dataframe tbody tr th {\n",
       "        vertical-align: top;\n",
       "    }\n",
       "\n",
       "    .dataframe thead th {\n",
       "        text-align: right;\n",
       "    }\n",
       "</style>\n",
       "<table border=\"1\" class=\"dataframe\">\n",
       "  <thead>\n",
       "    <tr style=\"text-align: right;\">\n",
       "      <th></th>\n",
       "      <th>currency</th>\n",
       "      <th>nominal</th>\n",
       "    </tr>\n",
       "  </thead>\n",
       "  <tbody>\n",
       "    <tr>\n",
       "      <th>0</th>\n",
       "      <td></td>\n",
       "      <td>25,000,000</td>\n",
       "    </tr>\n",
       "    <tr>\n",
       "      <th>1</th>\n",
       "      <td></td>\n",
       "      <td>6,000,000</td>\n",
       "    </tr>\n",
       "    <tr>\n",
       "      <th>2</th>\n",
       "      <td></td>\n",
       "      <td>13,000,000</td>\n",
       "    </tr>\n",
       "    <tr>\n",
       "      <th>3</th>\n",
       "      <td></td>\n",
       "      <td>185,000,000</td>\n",
       "    </tr>\n",
       "    <tr>\n",
       "      <th>4</th>\n",
       "      <td></td>\n",
       "      <td>350,000</td>\n",
       "    </tr>\n",
       "    <tr>\n",
       "      <th>...</th>\n",
       "      <td>...</td>\n",
       "      <td>...</td>\n",
       "    </tr>\n",
       "    <tr>\n",
       "      <th>245</th>\n",
       "      <td>NaN</td>\n",
       "      <td>NaN</td>\n",
       "    </tr>\n",
       "    <tr>\n",
       "      <th>246</th>\n",
       "      <td></td>\n",
       "      <td>3,000,000</td>\n",
       "    </tr>\n",
       "    <tr>\n",
       "      <th>247</th>\n",
       "      <td></td>\n",
       "      <td>3,200,000</td>\n",
       "    </tr>\n",
       "    <tr>\n",
       "      <th>248</th>\n",
       "      <td></td>\n",
       "      <td>1,162,000</td>\n",
       "    </tr>\n",
       "    <tr>\n",
       "      <th>249</th>\n",
       "      <td>NaN</td>\n",
       "      <td>NaN</td>\n",
       "    </tr>\n",
       "  </tbody>\n",
       "</table>\n",
       "<p>250 rows × 2 columns</p>\n",
       "</div>"
      ],
      "text/plain": [
       "    currency      nominal\n",
       "0              25,000,000\n",
       "1               6,000,000\n",
       "2              13,000,000\n",
       "3             185,000,000\n",
       "4                 350,000\n",
       "..       ...          ...\n",
       "245      NaN          NaN\n",
       "246             3,000,000\n",
       "247             3,200,000\n",
       "248             1,162,000\n",
       "249      NaN          NaN\n",
       "\n",
       "[250 rows x 2 columns]"
      ]
     },
     "execution_count": 105,
     "metadata": {},
     "output_type": "execute_result"
    }
   ],
   "source": [
    "imdb_top_movies[['currency', 'nominal']]"
   ]
  },
  {
   "cell_type": "code",
   "execution_count": null,
   "metadata": {},
   "outputs": [],
   "source": []
  },
  {
   "cell_type": "code",
   "execution_count": null,
   "metadata": {},
   "outputs": [],
   "source": []
  },
  {
   "cell_type": "code",
   "execution_count": null,
   "metadata": {},
   "outputs": [],
   "source": []
  },
  {
   "cell_type": "code",
   "execution_count": null,
   "metadata": {},
   "outputs": [],
   "source": []
  },
  {
   "cell_type": "code",
   "execution_count": null,
   "metadata": {},
   "outputs": [],
   "source": []
  },
  {
   "cell_type": "code",
   "execution_count": null,
   "metadata": {},
   "outputs": [],
   "source": []
  },
  {
   "cell_type": "code",
   "execution_count": null,
   "metadata": {},
   "outputs": [],
   "source": [
    "## add some general descriptive statistics here"
   ]
  },
  {
   "cell_type": "code",
   "execution_count": null,
   "metadata": {},
   "outputs": [],
   "source": []
  },
  {
   "cell_type": "code",
   "execution_count": null,
   "metadata": {},
   "outputs": [],
   "source": []
  },
  {
   "cell_type": "code",
   "execution_count": 39,
   "metadata": {},
   "outputs": [
    {
     "data": {
      "text/plain": [
       "2010    46\n",
       "2000    46\n",
       "1990    41\n",
       "1980    29\n",
       "1950    24\n",
       "1970    19\n",
       "1960    19\n",
       "1940    10\n",
       "1920     7\n",
       "1930     6\n",
       "2020     3\n",
       "Name: decades, dtype: int64"
      ]
     },
     "execution_count": 39,
     "metadata": {},
     "output_type": "execute_result"
    }
   ],
   "source": [
    "## transforming the year into decades\n",
    "imdb_top_movies[\"decades\"] = (imdb_top_movies[\"year\"]//10)*10\n",
    "imdb_top_movies[\"decades\"].sort_values().value_counts()"
   ]
  },
  {
   "cell_type": "code",
   "execution_count": 42,
   "metadata": {},
   "outputs": [
    {
     "data": {
      "text/plain": [
       "<matplotlib.lines.Line2D at 0x208bcd0f6d0>"
      ]
     },
     "execution_count": 42,
     "metadata": {},
     "output_type": "execute_result"
    },
    {
     "data": {
      "image/png": "[encoded data removed]",
      "text/plain": [
       "<Figure size 432x288 with 1 Axes>"
      ]
     },
     "metadata": {
      "needs_background": "light"
     },
     "output_type": "display_data"
    }
   ],
   "source": [
    "## have a look at different running times numerically but also visually\n",
    "\n",
    "## make a histogram of the running time using matplot\n",
    "plt.hist(imdb_top_movies[\"runtime\"], color = 'lightblue', edgecolor = 'black',\n",
    "         bins = int(180/5))\n",
    "## add red line with the average runtime\n",
    "plt.axvline(imdb_top_movies[\"runtime\"].mean(), color='red', linestyle='dashed', linewidth=1)"
   ]
  },
  {
   "cell_type": "code",
   "execution_count": 43,
   "metadata": {},
   "outputs": [
    {
     "name": "stdout",
     "output_type": "stream",
     "text": [
      "There are 64 movies with an average runtime of 95 minutes in the first quantile (0-25%)\n",
      "There are 63 movies with an average runtime of 118 minutes in the second quantile (25-50%)\n",
      "There are 60 movies with an average runtime of 134 minutes in the third quantile (50-75%)\n",
      "There are 63 movies with an average runtime of 171 minutes in the fourth quantile (75-100%)\n"
     ]
    }
   ],
   "source": [
    "## in a second step we would like to also define quantiles and then plot them\n",
    "## define different quantilies \n",
    "q0 = imdb_top_movies[\"runtime\"].quantile(0)\n",
    "q25=imdb_top_movies[\"runtime\"].quantile(0.25)\n",
    "q50=imdb_top_movies[\"runtime\"].quantile(0.5)\n",
    "q75=imdb_top_movies[\"runtime\"].quantile(0.75)\n",
    "q100=imdb_top_movies[\"runtime\"].quantile(1)\n",
    "\n",
    "## filter each film based on its runtime and store it in a new value\n",
    "first_quantile = imdb_top_movies[imdb_top_movies[\"runtime\"] <= q25]\n",
    "first_quantile_count = first_quantile[\"runtime\"].count()\n",
    "\n",
    "second_quantile = imdb_top_movies[(imdb_top_movies[\"runtime\"] > q25) & (imdb_top_movies[\"runtime\"] <= q50)]\n",
    "second_quantile_count = second_quantile[\"runtime\"].count()\n",
    "\n",
    "third_quantile = imdb_top_movies[(imdb_top_movies[\"runtime\"] > q50) & (imdb_top_movies[\"runtime\"] <= q75)]\n",
    "third_quantile_count = third_quantile[\"runtime\"].count()\n",
    "\n",
    "fourth_quantile = imdb_top_movies[imdb_top_movies[\"runtime\"] > q75]\n",
    "fourth_quantile_count = fourth_quantile[\"runtime\"].count()\n",
    "\n",
    "## calculate average running time of each quantile below and round results full numbers\n",
    "\n",
    "q25_mean = round(sum(first_quantile[\"runtime\"])/first_quantile_count)\n",
    "q50_mean = round(sum(second_quantile[\"runtime\"])/second_quantile_count)\n",
    "q75_mean = round(sum(third_quantile[\"runtime\"])/third_quantile_count)\n",
    "q100_mean = round(sum(fourth_quantile[\"runtime\"])/fourth_quantile_count)\n",
    "\n",
    "## printing the quantiles and the average of each quantile below\n",
    "print(\"There are\",first_quantile_count,\"movies with an average runtime of\", q25_mean,\"minutes in the first quantile (0-25%)\")\n",
    "print(\"There are\",second_quantile_count,\"movies with an average runtime of\", q50_mean, \"minutes in the second quantile (25-50%)\")\n",
    "print(\"There are\",third_quantile_count,\"movies with an average runtime of\", q75_mean, \"minutes in the third quantile (50-75%)\")\n",
    "print(\"There are\",fourth_quantile_count,\"movies with an average runtime of\", q100_mean, \"minutes in the fourth quantile (75-100%)\")\n",
    "\n"
   ]
  },
  {
   "cell_type": "code",
   "execution_count": 121,
   "metadata": {},
   "outputs": [
    {
     "data": {
      "text/plain": [
       "pandas.core.series.Series"
      ]
     },
     "execution_count": 121,
     "metadata": {},
     "output_type": "execute_result"
    }
   ],
   "source": [
    "type(imdb_top_movies[\"budget\"])"
   ]
  },
  {
   "cell_type": "code",
   "execution_count": null,
   "metadata": {},
   "outputs": [],
   "source": []
  },
  {
   "cell_type": "code",
   "execution_count": null,
   "metadata": {},
   "outputs": [],
   "source": []
  },
  {
   "cell_type": "code",
   "execution_count": null,
   "metadata": {},
   "outputs": [],
   "source": []
  },
  {
   "cell_type": "code",
   "execution_count": null,
   "metadata": {},
   "outputs": [],
   "source": []
  },
  {
   "cell_type": "code",
   "execution_count": null,
   "metadata": {},
   "outputs": [],
   "source": []
  },
  {
   "cell_type": "code",
   "execution_count": null,
   "metadata": {},
   "outputs": [],
   "source": []
  },
  {
   "cell_type": "code",
   "execution_count": null,
   "metadata": {},
   "outputs": [],
   "source": []
  },
  {
   "cell_type": "code",
   "execution_count": null,
   "metadata": {},
   "outputs": [],
   "source": []
  },
  {
   "cell_type": "code",
   "execution_count": null,
   "metadata": {},
   "outputs": [],
   "source": []
  },
  {
   "cell_type": "code",
   "execution_count": null,
   "metadata": {},
   "outputs": [],
   "source": []
  },
  {
   "cell_type": "code",
   "execution_count": null,
   "metadata": {},
   "outputs": [],
   "source": []
  },
  {
   "cell_type": "code",
   "execution_count": null,
   "metadata": {},
   "outputs": [],
   "source": []
  },
  {
   "cell_type": "code",
   "execution_count": null,
   "metadata": {},
   "outputs": [],
   "source": []
  },
  {
   "cell_type": "code",
   "execution_count": null,
   "metadata": {},
   "outputs": [],
   "source": []
  },
  {
   "cell_type": "code",
   "execution_count": null,
   "metadata": {},
   "outputs": [],
   "source": []
  },
  {
   "cell_type": "code",
   "execution_count": null,
   "metadata": {},
   "outputs": [],
   "source": []
  },
  {
   "cell_type": "code",
   "execution_count": null,
   "metadata": {},
   "outputs": [],
   "source": []
  },
  {
   "cell_type": "code",
   "execution_count": null,
   "metadata": {},
   "outputs": [],
   "source": []
  },
  {
   "cell_type": "code",
   "execution_count": null,
   "metadata": {},
   "outputs": [],
   "source": []
  },
  {
   "cell_type": "code",
   "execution_count": null,
   "metadata": {},
   "outputs": [],
   "source": []
  },
  {
   "cell_type": "code",
   "execution_count": null,
   "metadata": {},
   "outputs": [],
   "source": []
  },
  {
   "cell_type": "code",
   "execution_count": null,
   "metadata": {},
   "outputs": [],
   "source": []
  },
  {
   "cell_type": "code",
   "execution_count": null,
   "metadata": {},
   "outputs": [],
   "source": []
  },
  {
   "cell_type": "code",
   "execution_count": null,
   "metadata": {},
   "outputs": [],
   "source": []
  },
  {
   "cell_type": "code",
   "execution_count": null,
   "metadata": {},
   "outputs": [],
   "source": []
  },
  {
   "cell_type": "code",
   "execution_count": null,
   "metadata": {},
   "outputs": [],
   "source": []
  },
  {
   "cell_type": "code",
   "execution_count": null,
   "metadata": {},
   "outputs": [],
   "source": []
  },
  {
   "cell_type": "code",
   "execution_count": null,
   "metadata": {},
   "outputs": [],
   "source": []
  },
  {
   "cell_type": "code",
   "execution_count": null,
   "metadata": {},
   "outputs": [],
   "source": []
  },
  {
   "cell_type": "code",
   "execution_count": null,
   "metadata": {},
   "outputs": [],
   "source": []
  },
  {
   "cell_type": "code",
   "execution_count": 47,
   "metadata": {},
   "outputs": [
    {
     "ename": "ValueError",
     "evalue": "Could not interpret value `number of appearances` for parameter `x`",
     "output_type": "error",
     "traceback": [
      "\u001b[1;31m---------------------------------------------------------------------------\u001b[0m",
      "\u001b[1;31mValueError\u001b[0m                                Traceback (most recent call last)",
      "\u001b[1;32m<ipython-input-47-66da9553b0e4>\u001b[0m in \u001b[0;36m<module>\u001b[1;34m\u001b[0m\n\u001b[0;32m      1\u001b[0m \u001b[0mfig\u001b[0m\u001b[1;33m,\u001b[0m \u001b[0maxs\u001b[0m \u001b[1;33m=\u001b[0m \u001b[0mplt\u001b[0m\u001b[1;33m.\u001b[0m\u001b[0msubplots\u001b[0m\u001b[1;33m(\u001b[0m\u001b[0mncols\u001b[0m \u001b[1;33m=\u001b[0m \u001b[1;36m4\u001b[0m\u001b[1;33m,\u001b[0m \u001b[0mnrows\u001b[0m \u001b[1;33m=\u001b[0m \u001b[1;36m1\u001b[0m\u001b[1;33m)\u001b[0m\u001b[1;33m\u001b[0m\u001b[1;33m\u001b[0m\u001b[0m\n\u001b[1;32m----> 2\u001b[1;33m \u001b[0msns\u001b[0m\u001b[1;33m.\u001b[0m\u001b[0mhistplot\u001b[0m\u001b[1;33m(\u001b[0m\u001b[0mx\u001b[0m\u001b[1;33m=\u001b[0m\u001b[1;34m\"number of appearances\"\u001b[0m\u001b[1;33m,\u001b[0m \u001b[0my\u001b[0m\u001b[1;33m=\u001b[0m\u001b[1;34m\"movie length\"\u001b[0m\u001b[1;33m,\u001b[0m \u001b[0mdata\u001b[0m\u001b[1;33m=\u001b[0m\u001b[0mfirst_quantile\u001b[0m\u001b[1;33m[\u001b[0m\u001b[1;34m\"runtime\"\u001b[0m\u001b[1;33m]\u001b[0m\u001b[1;33m,\u001b[0m\u001b[0mbins\u001b[0m \u001b[1;33m=\u001b[0m \u001b[0mint\u001b[0m\u001b[1;33m(\u001b[0m\u001b[1;36m180\u001b[0m\u001b[1;33m/\u001b[0m\u001b[1;36m5\u001b[0m\u001b[1;33m)\u001b[0m\u001b[1;33m)\u001b[0m\u001b[1;33m\u001b[0m\u001b[1;33m\u001b[0m\u001b[0m\n\u001b[0m",
      "\u001b[1;32m~\\anaconda3\\lib\\site-packages\\seaborn\\distributions.py\u001b[0m in \u001b[0;36mhistplot\u001b[1;34m(data, x, y, hue, weights, stat, bins, binwidth, binrange, discrete, cumulative, common_bins, common_norm, multiple, element, fill, shrink, kde, kde_kws, line_kws, thresh, pthresh, pmax, cbar, cbar_ax, cbar_kws, palette, hue_order, hue_norm, color, log_scale, legend, ax, **kwargs)\u001b[0m\n\u001b[0;32m   1388\u001b[0m ):\n\u001b[0;32m   1389\u001b[0m \u001b[1;33m\u001b[0m\u001b[0m\n\u001b[1;32m-> 1390\u001b[1;33m     p = _DistributionPlotter(\n\u001b[0m\u001b[0;32m   1391\u001b[0m         \u001b[0mdata\u001b[0m\u001b[1;33m=\u001b[0m\u001b[0mdata\u001b[0m\u001b[1;33m,\u001b[0m\u001b[1;33m\u001b[0m\u001b[1;33m\u001b[0m\u001b[0m\n\u001b[0;32m   1392\u001b[0m         \u001b[0mvariables\u001b[0m\u001b[1;33m=\u001b[0m\u001b[0m_DistributionPlotter\u001b[0m\u001b[1;33m.\u001b[0m\u001b[0mget_semantics\u001b[0m\u001b[1;33m(\u001b[0m\u001b[0mlocals\u001b[0m\u001b[1;33m(\u001b[0m\u001b[1;33m)\u001b[0m\u001b[1;33m)\u001b[0m\u001b[1;33m\u001b[0m\u001b[1;33m\u001b[0m\u001b[0m\n",
      "\u001b[1;32m~\\anaconda3\\lib\\site-packages\\seaborn\\distributions.py\u001b[0m in \u001b[0;36m__init__\u001b[1;34m(self, data, variables)\u001b[0m\n\u001b[0;32m    106\u001b[0m     ):\n\u001b[0;32m    107\u001b[0m \u001b[1;33m\u001b[0m\u001b[0m\n\u001b[1;32m--> 108\u001b[1;33m         \u001b[0msuper\u001b[0m\u001b[1;33m(\u001b[0m\u001b[1;33m)\u001b[0m\u001b[1;33m.\u001b[0m\u001b[0m__init__\u001b[0m\u001b[1;33m(\u001b[0m\u001b[0mdata\u001b[0m\u001b[1;33m=\u001b[0m\u001b[0mdata\u001b[0m\u001b[1;33m,\u001b[0m \u001b[0mvariables\u001b[0m\u001b[1;33m=\u001b[0m\u001b[0mvariables\u001b[0m\u001b[1;33m)\u001b[0m\u001b[1;33m\u001b[0m\u001b[1;33m\u001b[0m\u001b[0m\n\u001b[0m\u001b[0;32m    109\u001b[0m \u001b[1;33m\u001b[0m\u001b[0m\n\u001b[0;32m    110\u001b[0m     \u001b[1;33m@\u001b[0m\u001b[0mproperty\u001b[0m\u001b[1;33m\u001b[0m\u001b[1;33m\u001b[0m\u001b[0m\n",
      "\u001b[1;32m~\\anaconda3\\lib\\site-packages\\seaborn\\_core.py\u001b[0m in \u001b[0;36m__init__\u001b[1;34m(self, data, variables)\u001b[0m\n\u001b[0;32m    602\u001b[0m     \u001b[1;32mdef\u001b[0m \u001b[0m__init__\u001b[0m\u001b[1;33m(\u001b[0m\u001b[0mself\u001b[0m\u001b[1;33m,\u001b[0m \u001b[0mdata\u001b[0m\u001b[1;33m=\u001b[0m\u001b[1;32mNone\u001b[0m\u001b[1;33m,\u001b[0m \u001b[0mvariables\u001b[0m\u001b[1;33m=\u001b[0m\u001b[1;33m{\u001b[0m\u001b[1;33m}\u001b[0m\u001b[1;33m)\u001b[0m\u001b[1;33m:\u001b[0m\u001b[1;33m\u001b[0m\u001b[1;33m\u001b[0m\u001b[0m\n\u001b[0;32m    603\u001b[0m \u001b[1;33m\u001b[0m\u001b[0m\n\u001b[1;32m--> 604\u001b[1;33m         \u001b[0mself\u001b[0m\u001b[1;33m.\u001b[0m\u001b[0massign_variables\u001b[0m\u001b[1;33m(\u001b[0m\u001b[0mdata\u001b[0m\u001b[1;33m,\u001b[0m \u001b[0mvariables\u001b[0m\u001b[1;33m)\u001b[0m\u001b[1;33m\u001b[0m\u001b[1;33m\u001b[0m\u001b[0m\n\u001b[0m\u001b[0;32m    605\u001b[0m \u001b[1;33m\u001b[0m\u001b[0m\n\u001b[0;32m    606\u001b[0m         \u001b[1;32mfor\u001b[0m \u001b[0mvar\u001b[0m\u001b[1;33m,\u001b[0m \u001b[0mcls\u001b[0m \u001b[1;32min\u001b[0m \u001b[0mself\u001b[0m\u001b[1;33m.\u001b[0m\u001b[0m_semantic_mappings\u001b[0m\u001b[1;33m.\u001b[0m\u001b[0mitems\u001b[0m\u001b[1;33m(\u001b[0m\u001b[1;33m)\u001b[0m\u001b[1;33m:\u001b[0m\u001b[1;33m\u001b[0m\u001b[1;33m\u001b[0m\u001b[0m\n",
      "\u001b[1;32m~\\anaconda3\\lib\\site-packages\\seaborn\\_core.py\u001b[0m in \u001b[0;36massign_variables\u001b[1;34m(self, data, variables)\u001b[0m\n\u001b[0;32m    665\u001b[0m         \u001b[1;32melse\u001b[0m\u001b[1;33m:\u001b[0m\u001b[1;33m\u001b[0m\u001b[1;33m\u001b[0m\u001b[0m\n\u001b[0;32m    666\u001b[0m             \u001b[0mself\u001b[0m\u001b[1;33m.\u001b[0m\u001b[0minput_format\u001b[0m \u001b[1;33m=\u001b[0m \u001b[1;34m\"long\"\u001b[0m\u001b[1;33m\u001b[0m\u001b[1;33m\u001b[0m\u001b[0m\n\u001b[1;32m--> 667\u001b[1;33m             plot_data, variables = self._assign_variables_longform(\n\u001b[0m\u001b[0;32m    668\u001b[0m                 \u001b[0mdata\u001b[0m\u001b[1;33m,\u001b[0m \u001b[1;33m**\u001b[0m\u001b[0mvariables\u001b[0m\u001b[1;33m,\u001b[0m\u001b[1;33m\u001b[0m\u001b[1;33m\u001b[0m\u001b[0m\n\u001b[0;32m    669\u001b[0m             )\n",
      "\u001b[1;32m~\\anaconda3\\lib\\site-packages\\seaborn\\_core.py\u001b[0m in \u001b[0;36m_assign_variables_longform\u001b[1;34m(self, data, **kwargs)\u001b[0m\n\u001b[0;32m    885\u001b[0m                     \u001b[1;31m# We don't know what this name means\u001b[0m\u001b[1;33m\u001b[0m\u001b[1;33m\u001b[0m\u001b[1;33m\u001b[0m\u001b[0m\n\u001b[0;32m    886\u001b[0m                     \u001b[0merr\u001b[0m \u001b[1;33m=\u001b[0m \u001b[1;34mf\"Could not interpret value `{val}` for parameter `{key}`\"\u001b[0m\u001b[1;33m\u001b[0m\u001b[1;33m\u001b[0m\u001b[0m\n\u001b[1;32m--> 887\u001b[1;33m                     \u001b[1;32mraise\u001b[0m \u001b[0mValueError\u001b[0m\u001b[1;33m(\u001b[0m\u001b[0merr\u001b[0m\u001b[1;33m)\u001b[0m\u001b[1;33m\u001b[0m\u001b[1;33m\u001b[0m\u001b[0m\n\u001b[0m\u001b[0;32m    888\u001b[0m \u001b[1;33m\u001b[0m\u001b[0m\n\u001b[0;32m    889\u001b[0m             \u001b[1;32melse\u001b[0m\u001b[1;33m:\u001b[0m\u001b[1;33m\u001b[0m\u001b[1;33m\u001b[0m\u001b[0m\n",
      "\u001b[1;31mValueError\u001b[0m: Could not interpret value `number of appearances` for parameter `x`"
     ]
    },
    {
     "data": {
      "image/png": "[encoded data removed]",
      "text/plain": [
       "<Figure size 432x288 with 4 Axes>"
      ]
     },
     "metadata": {
      "needs_background": "light"
     },
     "output_type": "display_data"
    }
   ],
   "source": []
  },
  {
   "cell_type": "code",
   "execution_count": null,
   "metadata": {},
   "outputs": [],
   "source": []
  }
 ],
 "metadata": {
  "kernelspec": {
   "display_name": "Python 3",
   "language": "python",
   "name": "python3"
  },
  "language_info": {
   "codemirror_mode": {
    "name": "ipython",
    "version": 3
   },
   "file_extension": ".py",
   "mimetype": "text/x-python",
   "name": "python",
   "nbconvert_exporter": "python",
   "pygments_lexer": "ipython3",
   "version": "3.8.5"
  }
 },
 "nbformat": 4,
 "nbformat_minor": 4
}
