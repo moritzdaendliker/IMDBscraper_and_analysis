{
 "cells": [
  {
   "cell_type": "code",
   "execution_count": 33,
   "metadata": {},
   "outputs": [],
   "source": [
    "## In this section we will do some preparation for later analysis and will show and visualize some descriptive statistics of the data"
   ]
  },
  {
   "cell_type": "code",
   "execution_count": 37,
   "metadata": {},
   "outputs": [],
   "source": [
    "## Importing all the necessary libraries\n",
    "import pandas as pd\n",
    "import numpy as np\n",
    "import requests\n",
    "from bs4 import BeautifulSoup\n",
    "import urllib3\n",
    "import re\n",
    "import seaborn as sns\n",
    "import matplotlib.pyplot as plt"
   ]
  },
  {
   "cell_type": "code",
   "execution_count": 38,
   "metadata": {},
   "outputs": [],
   "source": [
    "## loading the csv file which was created after scraping the IMDb website\n",
    "imdb_top_movies = pd.read_csv(\"imdb_top_movies.csv\")\n",
    "imdb_top_movies = imdb_top_movies.astype({\"year\": int})"
   ]
  },
  {
   "cell_type": "code",
   "execution_count": 39,
   "metadata": {},
   "outputs": [
    {
     "data": {
      "text/plain": [
       "2010    46\n",
       "2000    46\n",
       "1990    41\n",
       "1980    29\n",
       "1950    24\n",
       "1970    19\n",
       "1960    19\n",
       "1940    10\n",
       "1920     7\n",
       "1930     6\n",
       "2020     3\n",
       "Name: decades, dtype: int64"
      ]
     },
     "execution_count": 39,
     "metadata": {},
     "output_type": "execute_result"
    }
   ],
   "source": [
    "## transforming the year into decades\n",
    "imdb_top_movies[\"decades\"] = (imdb_top_movies[\"year\"]//10)*10\n",
    "imdb_top_movies[\"decades\"].sort_values().value_counts()"
   ]
  },
  {
   "cell_type": "code",
   "execution_count": null,
   "metadata": {},
   "outputs": [],
   "source": [
    "## add some general descriptive statistics here"
   ]
  },
  {
   "cell_type": "code",
   "execution_count": 40,
   "metadata": {},
   "outputs": [
    {
     "name": "stdout",
     "output_type": "stream",
     "text": [
      "There are 64 movies with an average runtime of 95 minutes in the first quantile (0-25%)\n",
      "There are 63 movies with an average runtime of 118 minutes in the second quantile (25-50%)\n",
      "There are 60 movies with an average runtime of 134 minutes in the third quantile (50-75%)\n",
      "There are 63 movies with an average runtime of 171 minutes in the fourth quantile (75-100%)\n"
     ]
    },
    {
     "data": {
      "image/png": "[encoded data removed]",
      "text/plain": [
       "<Figure size 432x288 with 1 Axes>"
      ]
     },
     "metadata": {
      "needs_background": "light"
     },
     "output_type": "display_data"
    }
   ],
   "source": [
    "## have a look at different running times numerically but also visually\n",
    "\n",
    "## make a histogram of the running time using matplot\n",
    "plt.hist(imdb_top_movies[\"runtime\"], color = 'lightblue', edgecolor = 'black',\n",
    "         bins = int(180/5))\n",
    "## add red line with the average runtime\n",
    "plt.axvline(imdb_top_movies[\"runtime\"].mean(), color='red', linestyle='dashed', linewidth=1)\n",
    "\n",
    "## in a second step we would like to also define quantiles and then plot them\n",
    "## define different quantilies \n",
    "q0 = imdb_top_movies[\"runtime\"].quantile(0)\n",
    "q25=imdb_top_movies[\"runtime\"].quantile(0.25)\n",
    "q50=imdb_top_movies[\"runtime\"].quantile(0.5)\n",
    "q75=imdb_top_movies[\"runtime\"].quantile(0.75)\n",
    "q100=imdb_top_movies[\"runtime\"].quantile(1)\n",
    "\n",
    "## filter each film based on its runtime and store it in a new value\n",
    "first_quantile = imdb_top_movies[imdb_top_movies[\"runtime\"] <= q25]\n",
    "first_quantile_count = first_quantile[\"runtime\"].count()\n",
    "\n",
    "second_quantile = imdb_top_movies[(imdb_top_movies[\"runtime\"] > q25) & (imdb_top_movies[\"runtime\"] <= q50)]\n",
    "second_quantile_count = second_quantile[\"runtime\"].count()\n",
    "\n",
    "third_quantile = imdb_top_movies[(imdb_top_movies[\"runtime\"] > q50) & (imdb_top_movies[\"runtime\"] <= q75)]\n",
    "third_quantile_count = third_quantile[\"runtime\"].count()\n",
    "\n",
    "fourth_quantile = imdb_top_movies[imdb_top_movies[\"runtime\"] > q75]\n",
    "fourth_quantile_count = fourth_quantile[\"runtime\"].count()\n",
    "\n",
    "## calculate average running time of each quantile below and round results full numbers\n",
    "\n",
    "q25_mean = round(sum(first_quantile[\"runtime\"])/first_quantile_count)\n",
    "q50_mean = round(sum(second_quantile[\"runtime\"])/second_quantile_count)\n",
    "q75_mean = round(sum(third_quantile[\"runtime\"])/third_quantile_count)\n",
    "q100_mean = round(sum(fourth_quantile[\"runtime\"])/fourth_quantile_count)\n",
    "\n",
    "## printing the quantiles and the average of each quantile below\n",
    "print(\"There are\",first_quantile_count,\"movies with an average runtime of\", q25_mean,\"minutes in the first quantile (0-25%)\")\n",
    "print(\"There are\",second_quantile_count,\"movies with an average runtime of\", q50_mean, \"minutes in the second quantile (25-50%)\")\n",
    "print(\"There are\",third_quantile_count,\"movies with an average runtime of\", q75_mean, \"minutes in the third quantile (50-75%)\")\n",
    "print(\"There are\",fourth_quantile_count,\"movies with an average runtime of\", q100_mean, \"minutes in the fourth quantile (75-100%)\")\n",
    "\n"
   ]
  },
  {
   "cell_type": "code",
   "execution_count": null,
   "metadata": {},
   "outputs": [],
   "source": [
    "## here do another analysis of a money measure"
   ]
  }
 ],
 "metadata": {
  "kernelspec": {
   "display_name": "Python 3",
   "language": "python",
   "name": "python3"
  },
  "language_info": {
   "codemirror_mode": {
    "name": "ipython",
    "version": 3
   },
   "file_extension": ".py",
   "mimetype": "text/x-python",
   "name": "python",
   "nbconvert_exporter": "python",
   "pygments_lexer": "ipython3",
   "version": "3.8.5"
  }
 },
 "nbformat": 4,
 "nbformat_minor": 4
}
